{
  "metadata": {
    "kernelspec": {
      "name": "python",
      "display_name": "Python (Pyodide)",
      "language": "python"
    },
    "language_info": {
      "codemirror_mode": {
        "name": "python",
        "version": 3
      },
      "file_extension": ".py",
      "mimetype": "text/x-python",
      "name": "python",
      "nbconvert_exporter": "python",
      "pygments_lexer": "ipython3",
      "version": "3.8"
    }
  },
  "nbformat_minor": 4,
  "nbformat": 4,
  "cells": [
    {
      "cell_type": "code",
      "source": "import pandas as pd\nimport matplotlib.pyplot as plt\n\ndf=pd.read_csv('all_data.csv')",
      "metadata": {},
      "outputs": [],
      "execution_count": null
    },
    {
      "cell_type": "code",
      "source": "print('the dataset has {} rows and {} columns'.format(df.shape[0],df.shape[1]))\ndf.columns=[s.lower() for s in list(df.columns)]\ndf.rename(columns={'life expectancy at birth (years)':'life_expectancy'}, inplace=True)\ndf.country=df.country.apply(lambda row: str(row))\nprint(df.dtypes)\nprint(df.head(10))",
      "metadata": {
        "trusted": true
      },
      "outputs": [
        {
          "ename": "<class 'NameError'>",
          "evalue": "name 'df' is not defined",
          "traceback": [
            "\u001b[0;31m---------------------------------------------------------------------------\u001b[0m",
            "\u001b[0;31mNameError\u001b[0m                                 Traceback (most recent call last)",
            "Cell \u001b[0;32mIn[1], line 1\u001b[0m\n\u001b[0;32m----> 1\u001b[0m \u001b[38;5;28mprint\u001b[39m(\u001b[38;5;124m'\u001b[39m\u001b[38;5;124mthe dataset has \u001b[39m\u001b[38;5;132;01m{}\u001b[39;00m\u001b[38;5;124m rows and \u001b[39m\u001b[38;5;132;01m{}\u001b[39;00m\u001b[38;5;124m columns\u001b[39m\u001b[38;5;124m'\u001b[39m\u001b[38;5;241m.\u001b[39mformat(\u001b[43mdf\u001b[49m\u001b[38;5;241m.\u001b[39mshape[\u001b[38;5;241m0\u001b[39m],df\u001b[38;5;241m.\u001b[39mshape[\u001b[38;5;241m1\u001b[39m]))\n\u001b[1;32m      2\u001b[0m df\u001b[38;5;241m.\u001b[39mcolumns\u001b[38;5;241m=\u001b[39m[s\u001b[38;5;241m.\u001b[39mlower() \u001b[38;5;28;01mfor\u001b[39;00m s \u001b[38;5;129;01min\u001b[39;00m \u001b[38;5;28mlist\u001b[39m(df\u001b[38;5;241m.\u001b[39mcolumns)]\n\u001b[1;32m      3\u001b[0m df\u001b[38;5;241m.\u001b[39mrename(columns\u001b[38;5;241m=\u001b[39m{\u001b[38;5;124m'\u001b[39m\u001b[38;5;124mlife expectancy at birth (years)\u001b[39m\u001b[38;5;124m'\u001b[39m:\u001b[38;5;124m'\u001b[39m\u001b[38;5;124mlife_expectancy\u001b[39m\u001b[38;5;124m'\u001b[39m}, inplace\u001b[38;5;241m=\u001b[39m\u001b[38;5;28;01mTrue\u001b[39;00m)\n",
            "\u001b[0;31mNameError\u001b[0m: name 'df' is not defined"
          ],
          "output_type": "error"
        }
      ],
      "execution_count": 1
    },
    {
      "cell_type": "code",
      "source": "df['country']=df.country.replace('United States of America', 'USA')",
      "metadata": {
        "trusted": true
      },
      "outputs": [],
      "execution_count": null
    },
    {
      "cell_type": "code",
      "source": "countries=df.country.unique()\nyears=df.year.unique()\nprint(countries)\nprint(df.groupby('country').year.count().reset_index())\nprint(df.groupby('year').country.count().reset_index())",
      "metadata": {
        "trusted": true
      },
      "outputs": [],
      "execution_count": null
    },
    {
      "cell_type": "code",
      "source": "countries_metrics=df.groupby('country').life_expectancy.mean().reset_index()\ncountries_metrics['mean_gdp']=df.groupby('country').gdp.mean().reset_index()['gdp']\ncountries_metrics.rename(columns={'life_expectancy':'mean_life_expectancy'}, inplace=True)\ncountries_metrics=countries_metrics.sort_values(by=['mean_life_expectancy'],ascending=False)\nprint(countries_metrics)",
      "metadata": {
        "trusted": true
      },
      "outputs": [],
      "execution_count": null
    },
    {
      "cell_type": "code",
      "source": "chile=df[df.country=='Chile'].reset_index(drop=True)\nchina=df[df.country=='China'].reset_index(drop=True)\ngermany=df[df.country=='Germany'].reset_index(drop=True)\nmexico=df[df.country=='Mexico'].reset_index(drop=True)\nusa=df[df.country=='USA'].reset_index(drop=True)\nzimbabwe=df[df.country=='Zimbabwe'].reset_index(drop=True)",
      "metadata": {
        "trusted": true
      },
      "outputs": [],
      "execution_count": null
    },
    {
      "cell_type": "code",
      "source": "ax=plt.subplot()\nplt.scatter(chile.life_expectancy, chile.gdp, label='Chile')\nplt.scatter(china.life_expectancy, china.gdp, label='China')\nplt.scatter(germany.life_expectancy, germany.gdp, label='Germany')\nplt.scatter(mexico.life_expectancy, mexico.gdp, label='Mexico')\nplt.scatter(usa.life_expectancy, usa.gdp, label='USA')\nplt.scatter(zimbabwe.life_expectancy, zimbabwe.gdp, label='Zimbabwe')\nplt.xlabel('Life Expectancy (years)')\nplt.ylabel('GDP')\nplt.legend()\nplt.show()",
      "metadata": {
        "trusted": true
      },
      "outputs": [],
      "execution_count": null
    },
    {
      "cell_type": "code",
      "source": "print(zimbabwe)",
      "metadata": {
        "trusted": true
      },
      "outputs": [],
      "execution_count": null
    },
    {
      "cell_type": "code",
      "source": "ax=plt.subplot()\nplt.plot(years, chile.life_expectancy, label='Chile')\nplt.plot(years, china.life_expectancy, label='China')\nplt.plot(years, germany.life_expectancy, label='Germany')\nplt.plot(years, mexico.life_expectancy, label='Mexico')\nplt.plot(years, usa.life_expectancy, label='USA')\nplt.plot(years, zimbabwe.life_expectancy, label='Zimbabwe')\nax.set_xticks(years)\nax.set_xticklabels(years, rotation=60)\nplt.xlabel('Year')\nplt.ylabel('Life Expectancy (years)')\nplt.title('Life Expectancy by country through the years')\nplt.legend()\nplt.show()",
      "metadata": {
        "trusted": true
      },
      "outputs": [],
      "execution_count": null
    },
    {
      "cell_type": "code",
      "source": "ax=plt.subplot()\nplt.plot(years, chile.gdp, label='Chile')\nplt.plot(years, china.gdp, label='China')\nplt.plot(years, germany.gdp, label='Germany')\nplt.plot(years, mexico.gdp, label='Mexico')\nplt.plot(years, usa.gdp, label='USA')\nplt.plot(years, zimbabwe.gdp, label='Zimbabwe')\nplt.legend()\nax.set_xticks(years)\nax.set_xticklabels(years, rotation=60)\nplt.xlabel('Years')\nplt.ylabel('GDP')\nplt.title('GDP by country through the years')\nplt.show()",
      "metadata": {
        "trusted": true
      },
      "outputs": [],
      "execution_count": null
    },
    {
      "cell_type": "code",
      "source": "import numpy as np\nfrom scipy.stats import chi2_contingency\nfor c in countries:\n    arr=np.array(df[df.country==c][['life_expectancy','gdp']].reset_index(drop=True))\n    ch,p_val,dof,ex=chi2_contingency(arr)\n    print('{}: {}'.format(c, p_val))",
      "metadata": {
        "trusted": true
      },
      "outputs": [],
      "execution_count": null
    },
    {
      "cell_type": "markdown",
      "source": "As none of the p values corresponding to each country is greater than .05 we can safely conclude there is a statistically significant association between the GDP and life expectancy in each country. Using this data we could analyze and confirm the relationship between the increases of life expectancy and GDP in the mentioned countries. To gain further insight into this relationship, other indicators of life quality can be analyzed, such as:\n\nClimate\nPollution\nCrime rate\nHealth Care index\nCost of living\n\nThe analysis of these indicators can reveal a dominant feature for countries with high life expectancy, and can help focus the efforts in opportunity areas in other countries.",
      "metadata": {}
    }
  ]
}